{
  "cells": [
    {
      "cell_type": "markdown",
      "metadata": {
        "id": "view-in-github",
        "colab_type": "text"
      },
      "source": [
        "<a href=\"https://colab.research.google.com/github/dinhtiendat2k3/BT-PTDL/blob/main/b%C3%A0i_05.ipynb\" target=\"_parent\"><img src=\"https://colab.research.google.com/assets/colab-badge.svg\" alt=\"Open In Colab\"/></a>"
      ]
    },
    {
      "cell_type": "markdown",
      "metadata": {
        "pycharm": {
          "name": "#%% md\n"
        },
        "id": "TNAPZ4lu0z3L"
      },
      "source": [
        "# United States - Crime Rates - 1960 - 2014"
      ]
    },
    {
      "cell_type": "markdown",
      "metadata": {
        "pycharm": {
          "name": "#%% md\n"
        },
        "id": "G8XOqRxh0z3Q"
      },
      "source": [
        "### Introduction:\n",
        "\n",
        "This time you will create a data\n",
        "\n",
        "Special thanks to: https://github.com/justmarkham for sharing the dataset and materials.\n",
        "\n",
        "### Step 1. Import the necessary libraries"
      ]
    },
    {
      "cell_type": "code",
      "execution_count": 1,
      "metadata": {
        "pycharm": {
          "name": "#%%\n"
        },
        "id": "BQgVFXra0z3R"
      },
      "outputs": [],
      "source": [
        "import pandas as pd"
      ]
    },
    {
      "cell_type": "markdown",
      "metadata": {
        "pycharm": {
          "name": "#%% md\n"
        },
        "id": "8Qyimsjy0z3S"
      },
      "source": [
        "### Step 2. Import the dataset from this [address](https://raw.githubusercontent.com/thieu1995/csv-files/main/data/pandas/US_Crime_Rates_1960_2014.csv)."
      ]
    },
    {
      "cell_type": "markdown",
      "metadata": {
        "pycharm": {
          "name": "#%% md\n"
        },
        "id": "m7nRfXtb0z3S"
      },
      "source": [
        "### Step 3. Assign it to a variable called crime."
      ]
    },
    {
      "cell_type": "code",
      "execution_count": 3,
      "metadata": {
        "pycharm": {
          "name": "#%%\n"
        },
        "id": "3ECld1qd0z3T",
        "colab": {
          "base_uri": "https://localhost:8080/"
        },
        "outputId": "8de3fa38-8f0e-4699-b7f8-e4d2311b6afd"
      },
      "outputs": [
        {
          "output_type": "stream",
          "name": "stdout",
          "text": [
            "<class 'pandas.core.frame.DataFrame'>\n",
            "RangeIndex: 55 entries, 0 to 54\n",
            "Data columns (total 12 columns):\n",
            " #   Column              Non-Null Count  Dtype\n",
            "---  ------              --------------  -----\n",
            " 0   Year                55 non-null     int64\n",
            " 1   Population          55 non-null     int64\n",
            " 2   Total               55 non-null     int64\n",
            " 3   Violent             55 non-null     int64\n",
            " 4   Property            55 non-null     int64\n",
            " 5   Murder              55 non-null     int64\n",
            " 6   Forcible_Rape       55 non-null     int64\n",
            " 7   Robbery             55 non-null     int64\n",
            " 8   Aggravated_assault  55 non-null     int64\n",
            " 9   Burglary            55 non-null     int64\n",
            " 10  Larceny_Theft       55 non-null     int64\n",
            " 11  Vehicle_Theft       55 non-null     int64\n",
            "dtypes: int64(12)\n",
            "memory usage: 5.3 KB\n"
          ]
        }
      ],
      "source": [
        "\n",
        "import pandas as pd\n",
        "crime = pd.read_csv('https://raw.githubusercontent.com/thieu1995/csv-files/main/data/pandas/US_Crime_Rates_1960_2014.csv')\n",
        "crime.info()"
      ]
    },
    {
      "cell_type": "markdown",
      "metadata": {
        "pycharm": {
          "name": "#%% md\n"
        },
        "id": "Zaega19E0z3T"
      },
      "source": [
        "### Step 4. What is the type of the columns?"
      ]
    },
    {
      "cell_type": "code",
      "execution_count": 5,
      "metadata": {
        "pycharm": {
          "name": "#%%\n"
        },
        "id": "eB74twUP0z3U",
        "colab": {
          "base_uri": "https://localhost:8080/"
        },
        "outputId": "f7543327-2c68-498c-97d8-e53715645270"
      },
      "outputs": [
        {
          "output_type": "stream",
          "name": "stdout",
          "text": [
            "Year                  int64\n",
            "Population            int64\n",
            "Total                 int64\n",
            "Violent               int64\n",
            "Property              int64\n",
            "Murder                int64\n",
            "Forcible_Rape         int64\n",
            "Robbery               int64\n",
            "Aggravated_assault    int64\n",
            "Burglary              int64\n",
            "Larceny_Theft         int64\n",
            "Vehicle_Theft         int64\n",
            "dtype: object\n"
          ]
        }
      ],
      "source": [
        "print(crime.dtypes)"
      ]
    },
    {
      "cell_type": "markdown",
      "metadata": {
        "pycharm": {
          "name": "#%% md\n"
        },
        "id": "3qx1CjXx0z3U"
      },
      "source": [
        "##### Have you noticed that the type of Year is int64. But pandas has a different type to work with Time Series. Let's see it now.\n",
        "\n",
        "### Step 5. Convert the type of the column Year to datetime64"
      ]
    },
    {
      "cell_type": "code",
      "execution_count": 6,
      "metadata": {
        "pycharm": {
          "name": "#%%\n"
        },
        "id": "ZUcJzdVC0z3V"
      },
      "outputs": [],
      "source": [
        "crime['Year'] = pd.to_datetime(crime['Year'], format='%Y')"
      ]
    },
    {
      "cell_type": "markdown",
      "metadata": {
        "pycharm": {
          "name": "#%% md\n"
        },
        "id": "RRWE_3bD0z3V"
      },
      "source": [
        "### Step 6. Set the Year column as the index of the dataframe"
      ]
    },
    {
      "cell_type": "code",
      "source": [
        "crime.set_index('Year', inplace=True)"
      ],
      "metadata": {
        "id": "_pOs7T5_1w2_"
      },
      "execution_count": 7,
      "outputs": []
    },
    {
      "cell_type": "markdown",
      "metadata": {
        "pycharm": {
          "name": "#%% md\n"
        },
        "id": "DavEnBd00z3W"
      },
      "source": [
        "### Step 7. Delete the Total column"
      ]
    },
    {
      "cell_type": "code",
      "execution_count": 8,
      "metadata": {
        "pycharm": {
          "name": "#%%\n"
        },
        "id": "g6uAJft80z3W"
      },
      "outputs": [],
      "source": [
        "crime.drop(columns=['Total'], inplace=True)"
      ]
    },
    {
      "cell_type": "markdown",
      "metadata": {
        "pycharm": {
          "name": "#%% md\n"
        },
        "id": "O3vyqX7a0z3W"
      },
      "source": [
        "### Step 8. Group the year by decades and sum the values\n",
        "\n",
        "#### Pay attention to the Population column number, summing this column is a mistake"
      ]
    },
    {
      "cell_type": "code",
      "execution_count": 11,
      "metadata": {
        "scrolled": true,
        "pycharm": {
          "name": "#%%\n"
        },
        "id": "FCDW3z700z3X"
      },
      "outputs": [],
      "source": [
        "crime['Decade'] = (crime.index.year // 10) * 10  # Tạo cột thập kỷ\n",
        "decade_grouped = crime.groupby('Decade').sum()\n",
        "decade_grouped['Population'] = crime.groupby('Decade')['Population'].mean()"
      ]
    },
    {
      "cell_type": "markdown",
      "metadata": {
        "pycharm": {
          "name": "#%% md\n"
        },
        "id": "xXqaQgAT0z3X"
      },
      "source": [
        "### Step 9. What is the most dangerous decade to live in the US?"
      ]
    },
    {
      "cell_type": "code",
      "execution_count": 12,
      "metadata": {
        "pycharm": {
          "name": "#%%\n"
        },
        "id": "FbgjB99p0z3X",
        "colab": {
          "base_uri": "https://localhost:8080/"
        },
        "outputId": "b3266f18-1c86-44bc-8ae1-a487b2d4d66d"
      },
      "outputs": [
        {
          "output_type": "stream",
          "name": "stdout",
          "text": [
            "The most dangerous decade to live in the US was: 1990s\n"
          ]
        }
      ],
      "source": [
        "most_dangerous_decade = decade_grouped[['Violent', 'Property']].sum(axis=1).idxmax()\n",
        "print(f\"The most dangerous decade to live in the US was: {most_dangerous_decade}s\")"
      ]
    }
  ],
  "metadata": {
    "anaconda-cloud": {},
    "kernelspec": {
      "display_name": "Python [default]",
      "language": "python",
      "name": "python2"
    },
    "language_info": {
      "codemirror_mode": {
        "name": "ipython",
        "version": 2
      },
      "file_extension": ".py",
      "mimetype": "text/x-python",
      "name": "python",
      "nbconvert_exporter": "python",
      "pygments_lexer": "ipython2",
      "version": "2.7.12"
    },
    "colab": {
      "provenance": [],
      "include_colab_link": true
    }
  },
  "nbformat": 4,
  "nbformat_minor": 0
}